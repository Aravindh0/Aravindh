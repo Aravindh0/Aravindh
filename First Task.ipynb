{
 "cells": [
  {
   "cell_type": "code",
   "execution_count": 12,
   "id": "635d6d20",
   "metadata": {},
   "outputs": [
    {
     "data": {
      "text/plain": [
       "set"
      ]
     },
     "execution_count": 12,
     "metadata": {},
     "output_type": "execute_result"
    }
   ],
   "source": [
    "#TASK 1\n",
    "3#Remove Duplicates\n",
    "a=[2,3,4,2,3,4,8,9,12,\"apple\",\"APPLE\"]\n",
    "b=set(a)\n",
    "type(b)\n",
    "\n",
    "\n",
    "\n",
    "\n"
   ]
  },
  {
   "cell_type": "code",
   "execution_count": 11,
   "id": "295c902e",
   "metadata": {},
   "outputs": [
    {
     "name": "stdout",
     "output_type": "stream",
     "text": [
      "{2, 3, 4, 8, 9, 'APPLE', 12, 'apple'}\n"
     ]
    }
   ],
   "source": [
    "print(b)"
   ]
  },
  {
   "cell_type": "code",
   "execution_count": 30,
   "id": "3d44c16d",
   "metadata": {},
   "outputs": [
    {
     "name": "stdout",
     "output_type": "stream",
     "text": [
      "apple\n"
     ]
    }
   ],
   "source": [
    "#Task 2\n",
    "#Slice 'apple' from the given variable\n",
    "B='i need an apple'\n",
    "print(B[-5:])\n"
   ]
  },
  {
   "cell_type": "code",
   "execution_count": null,
   "id": "b4df6d33",
   "metadata": {},
   "outputs": [],
   "source": [
    "#Task 3\n",
    "#add both number when both number are even\n",
    "#multiply when both number are not even"
   ]
  },
  {
   "cell_type": "code",
   "execution_count": 47,
   "id": "c5fd9bb7",
   "metadata": {},
   "outputs": [
    {
     "name": "stdout",
     "output_type": "stream",
     "text": [
      "Enter value : 4\n",
      "enter value : 2\n",
      "Both numbers are even\n",
      "6\n"
     ]
    }
   ],
   "source": [
    "a=int(input(\"Enter value : \"))\n",
    "b=int(input(\"enter value : \"))\n",
    "if a%2==b%2==0:\n",
    "    A=a+b\n",
    "    print(\"Both numbers are even\")\n",
    "    print(A)\n",
    "else:\n",
    "    A=a*b\n",
    "    print(\"Both numbers are odd\")\n",
    "    print(A)\n",
    "    \n",
    "    \n",
    "    \n",
    "    "
   ]
  },
  {
   "cell_type": "code",
   "execution_count": 49,
   "id": "88fa4c93",
   "metadata": {},
   "outputs": [
    {
     "name": "stdout",
     "output_type": "stream",
     "text": [
      "Enter value : 5\n",
      "enter value : 3\n",
      "Both numbers are odd\n",
      "15\n"
     ]
    }
   ],
   "source": [
    "a=int(input(\"Enter value : \"))\n",
    "b=int(input(\"enter value : \"))\n",
    "if a%2==b%2==0:\n",
    "    A=a+b\n",
    "    print(\"Both numbers are even\")\n",
    "    print(A)\n",
    "else:\n",
    "    A=a*b\n",
    "    print(\"Both numbers are odd\")\n",
    "    print(A)"
   ]
  },
  {
   "cell_type": "code",
   "execution_count": 52,
   "id": "1ca02550",
   "metadata": {},
   "outputs": [],
   "source": [
    "#Task 4\n",
    "#Create a module and execute the module for the above task 3\n",
    "def task(a,b):\n",
    "    if a%2==b%2==0:\n",
    "        A=a+b\n",
    "        return(\"Both numbers are even\", A) \n",
    "    else:\n",
    "        A=a*b\n",
    "        return(\"Both numbers are odd\", A)\n",
    "\n",
    "   \n",
    "    "
   ]
  },
  {
   "cell_type": "code",
   "execution_count": 53,
   "id": "b6c4915d",
   "metadata": {},
   "outputs": [
    {
     "data": {
      "text/plain": [
       "('Both numbers are even', 8)"
      ]
     },
     "execution_count": 53,
     "metadata": {},
     "output_type": "execute_result"
    }
   ],
   "source": [
    "task(2,6)"
   ]
  },
  {
   "cell_type": "code",
   "execution_count": 54,
   "id": "2efaa977",
   "metadata": {},
   "outputs": [
    {
     "data": {
      "text/plain": [
       "('Both numbers are odd', 21)"
      ]
     },
     "execution_count": 54,
     "metadata": {},
     "output_type": "execute_result"
    }
   ],
   "source": [
    "task(3,7)"
   ]
  },
  {
   "cell_type": "code",
   "execution_count": 55,
   "id": "ff18b49a",
   "metadata": {},
   "outputs": [
    {
     "name": "stdout",
     "output_type": "stream",
     "text": [
      "Enter the table : 8\n",
      "1 * 8 = 8\n",
      "2 * 8 = 16\n",
      "3 * 8 = 24\n",
      "4 * 8 = 32\n",
      "5 * 8 = 40\n",
      "6 * 8 = 48\n",
      "7 * 8 = 56\n",
      "8 * 8 = 64\n",
      "9 * 8 = 72\n",
      "10 * 8 = 80\n"
     ]
    }
   ],
   "source": [
    "#Task 5\n",
    "#8th table using for loop\n",
    "a=int(input(\"Enter the table : \"))\n",
    "for i in range(1,11):\n",
    "    print(i,'*',a,'=',i*a)"
   ]
  },
  {
   "cell_type": "code",
   "execution_count": null,
   "id": "b0c91e01",
   "metadata": {},
   "outputs": [],
   "source": []
  }
 ],
 "metadata": {
  "kernelspec": {
   "display_name": "Python 3 (ipykernel)",
   "language": "python",
   "name": "python3"
  },
  "language_info": {
   "codemirror_mode": {
    "name": "ipython",
    "version": 3
   },
   "file_extension": ".py",
   "mimetype": "text/x-python",
   "name": "python",
   "nbconvert_exporter": "python",
   "pygments_lexer": "ipython3",
   "version": "3.10.9"
  }
 },
 "nbformat": 4,
 "nbformat_minor": 5
}
